{
  "cells": [
    {
      "cell_type": "code",
      "execution_count": null,
      "metadata": {
        "id": "8UsEnIVmZYps",
        "colab": {
          "base_uri": "https://localhost:8080/"
        },
        "outputId": "315695ad-3291-4800-b513-d465d6d96a7e"
      },
      "outputs": [
        {
          "output_type": "stream",
          "name": "stdout",
          "text": [
            "Mounted at /content/drive\n"
          ]
        }
      ],
      "source": [
        "from google.colab import drive\n",
        "drive.mount('/content/drive')"
      ]
    },
    {
      "cell_type": "code",
      "execution_count": null,
      "metadata": {
        "id": "pF8E3TXwYwk7"
      },
      "outputs": [],
      "source": [
        "import pandas as pd\n",
        "import numpy as np\n",
        "import matplotlib.pyplot as plt\n",
        "import seaborn as sns\n",
        "import plotly.express as px\n",
        "import os\n",
        "from pathlib import Path\n",
        "import os.path\n",
        "import cv2\n",
        "from PIL import Image \n",
        "from PIL import ImageEnhance\n",
        "from skimage.io import imread\n",
        "import matplotlib.pyplot as plt\n",
        "\n",
        "import random, pathlib, warnings, itertools, math\n",
        "warnings.filterwarnings(\"ignore\")\n",
        "\n",
        "import tensorflow as tf\n",
        "from tensorflow.keras.preprocessing import image\n",
        "from tensorflow.keras.preprocessing.image import ImageDataGenerator\n",
        "from sklearn.preprocessing import LabelBinarizer\n",
        "from sklearn.metrics import roc_curve, auc, roc_auc_score\n",
        "\n",
        "from IPython.display import clear_output\n",
        "import warnings\n",
        "warnings.filterwarnings('ignore')\n"
      ]
    },
    {
      "cell_type": "code",
      "source": [
        "# parameter\n",
        "dim = (100, 100)\n",
        "channel = (3, )\n",
        "input_shape = dim + channel\n",
        "\n",
        "#ukuran batch \n",
        "batch_size = 32\n"
      ],
      "metadata": {
        "id": "BOdQ6AA4hakx"
      },
      "execution_count": null,
      "outputs": []
    },
    {
      "cell_type": "code",
      "source": [
        "train_datagen = ImageDataGenerator(rescale=1. / 255,\n",
        "                                   shear_range=0.2,\n",
        "                                   zoom_range=0.2,\n",
        "                                   horizontal_flip=True)\n",
        "\n",
        "val_datagen = ImageDataGenerator(rescale=1. / 255,\n",
        "                                 shear_range=0.2,\n",
        "                                 zoom_range=0.2,\n",
        "                                 horizontal_flip=True)\n",
        "\n",
        "test_datagen = ImageDataGenerator(rescale=1. / 255,\n",
        "                                  shear_range=0.2,\n",
        "                                  zoom_range=0.2,\n",
        "                                  horizontal_flip=True)"
      ],
      "metadata": {
        "id": "Je6Qwf24hnHX"
      },
      "execution_count": null,
      "outputs": []
    },
    {
      "cell_type": "code",
      "source": [
        "train_generator = train_datagen.flow_from_directory('/content/drive/MyDrive/Vegetable/train/',\n",
        "                                                    target_size=dim,\n",
        "                                                    batch_size=batch_size,\n",
        "                                                    class_mode='categorical',\n",
        "                                                    shuffle=True)\n",
        "\n",
        "val_generator = val_datagen.flow_from_directory('/content/drive/MyDrive/Vegetable/validation/',\n",
        "                                                target_size=dim,\n",
        "                                                batch_size=batch_size,\n",
        "                                                class_mode='categorical',\n",
        "                                                shuffle=True)\n",
        "\n",
        "test_generator = test_datagen.flow_from_directory('/content/drive/MyDrive/Vegetable/test/',\n",
        "                                                  target_size=dim,\n",
        "                                                  batch_size=batch_size,\n",
        "                                                  class_mode='categorical',\n",
        "                                                  shuffle=True)\n",
        "\n",
        "num_class = test_generator.num_classes\n",
        "labels = train_generator.class_indices.keys()"
      ],
      "metadata": {
        "colab": {
          "base_uri": "https://localhost:8080/"
        },
        "id": "QzA-PFrzQgmr",
        "outputId": "4c1febd3-8749-45f2-ed2c-31c9fcb4f8c5"
      },
      "execution_count": null,
      "outputs": [
        {
          "output_type": "stream",
          "name": "stdout",
          "text": [
            "Found 7500 images belonging to 15 classes.\n",
            "Found 1500 images belonging to 15 classes.\n",
            "Found 1500 images belonging to 15 classes.\n"
          ]
        }
      ]
    },
    {
      "cell_type": "code",
      "execution_count": null,
      "metadata": {
        "id": "fk38Tk5caCjl",
        "colab": {
          "base_uri": "https://localhost:8080/"
        },
        "outputId": "df833bce-4d74-46f5-f440-b8aed1e6fa41"
      },
      "outputs": [
        {
          "output_type": "stream",
          "name": "stdout",
          "text": [
            "dict_keys(['Bean', 'Bitter_Gourd', 'Bottle_Gourd', 'Brinjal', 'Broccoli', 'Cabbage', 'Capsicum', 'Carrot', 'Cauliflower', 'Cucumber', 'Papaya', 'Potato', 'Pumpkin', 'Radish', 'Tomato'])\n"
          ]
        }
      ],
      "source": [
        "print(labels)"
      ]
    },
    {
      "cell_type": "code",
      "source": [
        "def tf_data_generator(generator, input_shape):\n",
        "    num_class = generator.num_classes\n",
        "    tf_generator = tf.data.Dataset.from_generator(\n",
        "        lambda: generator,\n",
        "        output_types=(tf.float32, tf.float32),\n",
        "        output_shapes=([None\n",
        "                        , input_shape[0]\n",
        "                        , input_shape[1]\n",
        "                        , input_shape[2]]\n",
        "                       ,[None, num_class])\n",
        "    )\n",
        "    return tf_generator"
      ],
      "metadata": {
        "id": "OZy5ZYhyN5o1"
      },
      "execution_count": null,
      "outputs": []
    },
    {
      "cell_type": "code",
      "source": [
        "train_data = tf_data_generator(train_generator, input_shape)\n",
        "test_data = tf_data_generator(test_generator, input_shape)\n",
        "val_data = tf_data_generator(val_generator, input_shape)"
      ],
      "metadata": {
        "id": "s3uyYc_KS3sH"
      },
      "execution_count": null,
      "outputs": []
    },
    {
      "cell_type": "code",
      "source": [
        "!pip install -U --pre efficientnet"
      ],
      "metadata": {
        "colab": {
          "base_uri": "https://localhost:8080/"
        },
        "id": "g5XpZ_-9iK27",
        "outputId": "e9f958e7-50b1-4c37-c16e-277bdb6efae1"
      },
      "execution_count": null,
      "outputs": [
        {
          "output_type": "stream",
          "name": "stdout",
          "text": [
            "Looking in indexes: https://pypi.org/simple, https://us-python.pkg.dev/colab-wheels/public/simple/\n",
            "Collecting efficientnet\n",
            "  Downloading efficientnet-1.1.1-py3-none-any.whl (18 kB)\n",
            "Collecting keras-applications<=1.0.8,>=1.0.7\n",
            "  Downloading Keras_Applications-1.0.8-py3-none-any.whl (50 kB)\n",
            "\u001b[K     |████████████████████████████████| 50 kB 3.3 MB/s \n",
            "\u001b[?25hRequirement already satisfied: scikit-image in /usr/local/lib/python3.7/dist-packages (from efficientnet) (0.18.3)\n",
            "Requirement already satisfied: h5py in /usr/local/lib/python3.7/dist-packages (from keras-applications<=1.0.8,>=1.0.7->efficientnet) (3.1.0)\n",
            "Requirement already satisfied: numpy>=1.9.1 in /usr/local/lib/python3.7/dist-packages (from keras-applications<=1.0.8,>=1.0.7->efficientnet) (1.21.6)\n",
            "Requirement already satisfied: cached-property in /usr/local/lib/python3.7/dist-packages (from h5py->keras-applications<=1.0.8,>=1.0.7->efficientnet) (1.5.2)\n",
            "Requirement already satisfied: matplotlib!=3.0.0,>=2.0.0 in /usr/local/lib/python3.7/dist-packages (from scikit-image->efficientnet) (3.2.2)\n",
            "Requirement already satisfied: pillow!=7.1.0,!=7.1.1,>=4.3.0 in /usr/local/lib/python3.7/dist-packages (from scikit-image->efficientnet) (7.1.2)\n",
            "Requirement already satisfied: networkx>=2.0 in /usr/local/lib/python3.7/dist-packages (from scikit-image->efficientnet) (2.6.3)\n",
            "Requirement already satisfied: tifffile>=2019.7.26 in /usr/local/lib/python3.7/dist-packages (from scikit-image->efficientnet) (2021.11.2)\n",
            "Requirement already satisfied: imageio>=2.3.0 in /usr/local/lib/python3.7/dist-packages (from scikit-image->efficientnet) (2.4.1)\n",
            "Requirement already satisfied: PyWavelets>=1.1.1 in /usr/local/lib/python3.7/dist-packages (from scikit-image->efficientnet) (1.3.0)\n",
            "Requirement already satisfied: scipy>=1.0.1 in /usr/local/lib/python3.7/dist-packages (from scikit-image->efficientnet) (1.4.1)\n",
            "Requirement already satisfied: cycler>=0.10 in /usr/local/lib/python3.7/dist-packages (from matplotlib!=3.0.0,>=2.0.0->scikit-image->efficientnet) (0.11.0)\n",
            "Requirement already satisfied: python-dateutil>=2.1 in /usr/local/lib/python3.7/dist-packages (from matplotlib!=3.0.0,>=2.0.0->scikit-image->efficientnet) (2.8.2)\n",
            "Requirement already satisfied: pyparsing!=2.0.4,!=2.1.2,!=2.1.6,>=2.0.1 in /usr/local/lib/python3.7/dist-packages (from matplotlib!=3.0.0,>=2.0.0->scikit-image->efficientnet) (3.0.9)\n",
            "Requirement already satisfied: kiwisolver>=1.0.1 in /usr/local/lib/python3.7/dist-packages (from matplotlib!=3.0.0,>=2.0.0->scikit-image->efficientnet) (1.4.2)\n",
            "Requirement already satisfied: typing-extensions in /usr/local/lib/python3.7/dist-packages (from kiwisolver>=1.0.1->matplotlib!=3.0.0,>=2.0.0->scikit-image->efficientnet) (4.2.0)\n",
            "Requirement already satisfied: six>=1.5 in /usr/local/lib/python3.7/dist-packages (from python-dateutil>=2.1->matplotlib!=3.0.0,>=2.0.0->scikit-image->efficientnet) (1.15.0)\n",
            "Installing collected packages: keras-applications, efficientnet\n",
            "Successfully installed efficientnet-1.1.1 keras-applications-1.0.8\n"
          ]
        }
      ]
    },
    {
      "cell_type": "code",
      "source": [
        "from efficientnet.tfkeras import EfficientNetB1"
      ],
      "metadata": {
        "id": "7hRBYnAtUMk7"
      },
      "execution_count": null,
      "outputs": []
    },
    {
      "cell_type": "code",
      "source": [
        "from tensorflow.keras import layers,Sequential\n",
        "from tensorflow.keras.models import Model"
      ],
      "metadata": {
        "id": "pbiJNA9m1iN_"
      },
      "execution_count": null,
      "outputs": []
    },
    {
      "cell_type": "code",
      "source": [
        "def feature_extractorfeature_extractor(inputs):\n",
        "    feature_extractor = EfficientNetB1(\n",
        "                                      input_shape=input_shape,\n",
        "                                      include_top=False,\n",
        "                                      weights='noisy-student',\n",
        "                                      classes=num_class,\n",
        "                                  )(inputs)\n",
        "    \n",
        "    return feature_extractor\n",
        "\n",
        "def classifier(inputs):\n",
        "    x = layers.GlobalAveragePooling2D()(inputs)\n",
        "    x = layers.Dropout(0.3)(x)\n",
        "    x = layers.Dense(256, activation=\"relu\")(x)\n",
        "    x = layers.Dropout(0.5)(x)\n",
        "    x = layers.Dense(1024, activation=\"relu\")(x)\n",
        "    x = layers.Dropout(0.4) (x)\n",
        "    x = layers.Dense(512, activation=\"relu\")(x)\n",
        "    x = layers.Dense(num_class, activation=\"softmax\", name=\"classification\")(x)\n",
        "    \n",
        "    return x\n",
        "\n",
        "def final_model(inputs):\n",
        "    efficientNet_feature_extractor = feature_extractorfeature_extractor(inputs)\n",
        "    classification_output = classifier(efficientNet_feature_extractor)\n",
        "    \n",
        "    return classification_output\n",
        "\n",
        "def define_compile_model():\n",
        "    inputs = layers.Input(shape=input_shape)\n",
        "    classification_output = final_model(inputs) \n",
        "    model = Model(inputs=inputs, outputs = classification_output)\n",
        "    model.compile(optimizer='adam', \n",
        "                loss='categorical_crossentropy',\n",
        "                metrics = ['accuracy'])\n",
        "  \n",
        "    return model"
      ],
      "metadata": {
        "id": "9BovLLc11n8R"
      },
      "execution_count": null,
      "outputs": []
    },
    {
      "cell_type": "code",
      "execution_count": null,
      "metadata": {
        "colab": {
          "base_uri": "https://localhost:8080/"
        },
        "id": "9u1uFGi0ayG9",
        "outputId": "a5e69ee6-0ea9-41dc-edeb-9b71a3c9eff6"
      },
      "outputs": [
        {
          "output_type": "stream",
          "name": "stdout",
          "text": [
            "Model: \"model\"\n",
            "_________________________________________________________________\n",
            " Layer (type)                Output Shape              Param #   \n",
            "=================================================================\n",
            " input_1 (InputLayer)        [(None, 100, 100, 3)]     0         \n",
            "                                                                 \n",
            " efficientnet-b1 (Functional  (None, 4, 4, 1280)       6575232   \n",
            " )                                                               \n",
            "                                                                 \n",
            " global_average_pooling2d (G  (None, 1280)             0         \n",
            " lobalAveragePooling2D)                                          \n",
            "                                                                 \n",
            " dropout (Dropout)           (None, 1280)              0         \n",
            "                                                                 \n",
            " dense (Dense)               (None, 256)               327936    \n",
            "                                                                 \n",
            " dropout_1 (Dropout)         (None, 256)               0         \n",
            "                                                                 \n",
            " dense_1 (Dense)             (None, 1024)              263168    \n",
            "                                                                 \n",
            " dropout_2 (Dropout)         (None, 1024)              0         \n",
            "                                                                 \n",
            " dense_2 (Dense)             (None, 512)               524800    \n",
            "                                                                 \n",
            " classification (Dense)      (None, 15)                7695      \n",
            "                                                                 \n",
            "=================================================================\n",
            "Total params: 7,698,831\n",
            "Trainable params: 7,636,783\n",
            "Non-trainable params: 62,048\n",
            "_________________________________________________________________\n"
          ]
        }
      ],
      "source": [
        "model = define_compile_model()\n",
        "clear_output()\n",
        "model.summary()"
      ]
    },
    {
      "cell_type": "code",
      "execution_count": null,
      "metadata": {
        "id": "Sawne5mTYvr8"
      },
      "outputs": [],
      "source": [
        "\n",
        "model.compile(optimizer='adam',\n",
        "              loss='categorical_crossentropy',\n",
        "              metrics=['accuracy'])"
      ]
    },
    {
      "cell_type": "code",
      "execution_count": null,
      "metadata": {
        "colab": {
          "base_uri": "https://localhost:8080/"
        },
        "id": "_Nv6oP15YxTJ",
        "outputId": "7614559a-fb4b-45a4-af33-b288b20731b9"
      },
      "outputs": [
        {
          "output_type": "stream",
          "name": "stdout",
          "text": [
            "Epoch 1/5\n",
            "235/235 [==============================] - 2119s 9s/step - loss: 0.7722 - accuracy: 0.7711 - val_loss: 0.5430 - val_accuracy: 0.8727\n",
            "Epoch 2/5\n",
            "235/235 [==============================] - 66s 281ms/step - loss: 0.2589 - accuracy: 0.9348 - val_loss: 0.1411 - val_accuracy: 0.9593\n",
            "Epoch 3/5\n",
            "235/235 [==============================] - 66s 282ms/step - loss: 0.2403 - accuracy: 0.9431 - val_loss: 0.1360 - val_accuracy: 0.9733\n",
            "Epoch 4/5\n",
            "235/235 [==============================] - 66s 282ms/step - loss: 0.1802 - accuracy: 0.9592 - val_loss: 0.1966 - val_accuracy: 0.9647\n",
            "Epoch 5/5\n",
            "235/235 [==============================] - 66s 280ms/step - loss: 0.1373 - accuracy: 0.9676 - val_loss: 0.1322 - val_accuracy: 0.9693\n"
          ]
        }
      ],
      "source": [
        "history = model.fit(x=train_data,\n",
        "        steps_per_epoch=len(train_generator),\n",
        "        epochs=5,\n",
        "        validation_data=val_data,\n",
        "        validation_steps=len(val_generator), \n",
        "        shuffle=True,\n",
        "        verbose = 1)"
      ]
    },
    {
      "cell_type": "code",
      "source": [
        "model.save('model_13.h5')"
      ],
      "metadata": {
        "id": "qdI4aRRoTWrQ"
      },
      "execution_count": null,
      "outputs": []
    },
    {
      "cell_type": "code",
      "source": [
        "history_df = pd.DataFrame(r.history)\n",
        "history_df.loc[:, ['loss', 'val_loss']].plot()\n",
        "history_df.loc[:, ['accuracy', 'val_accuracy']].plot()"
      ],
      "metadata": {
        "id": "zriCB4QiIfff"
      },
      "execution_count": null,
      "outputs": []
    },
    {
      "cell_type": "code",
      "source": [
        "loss, acc = model.evaluate(train_data, steps=len(train_generator), verbose=0)\n",
        "print('Accuracy on training data: {:.4f} \\nLoss on training data: {:.4f}'.format(acc,loss),'\\n')\n",
        " \n",
        "loss, acc = model.evaluate(test_data, steps=len(test_generator), verbose=0)\n",
        "print('Accuracy on test data: {:.4f} \\nLoss on test data: {:.4f}'.format(acc,loss),'\\n')    "
      ],
      "metadata": {
        "colab": {
          "base_uri": "https://localhost:8080/"
        },
        "id": "i2R8FzKJUAQ-",
        "outputId": "d604321d-aa2a-484a-a8d7-28a0c8a71aa9"
      },
      "execution_count": null,
      "outputs": [
        {
          "output_type": "stream",
          "name": "stdout",
          "text": [
            "Accuracy on training data: 0.9671 \n",
            "Loss on training data: 0.1388 \n",
            "\n",
            "Accuracy on test data: 0.9647 \n",
            "Loss on test data: 0.1563 \n",
            "\n"
          ]
        }
      ]
    },
    {
      "cell_type": "markdown",
      "source": [
        "#Membuat prediksi gambar sayuran"
      ],
      "metadata": {
        "id": "potwpfYuJTcb"
      }
    },
    {
      "cell_type": "code",
      "source": [
        "import requests\n",
        "from io import BytesIO\n",
        "\n",
        "from PIL import Image\n",
        "import numpy as np"
      ],
      "metadata": {
        "id": "9JIu3e0QArIy"
      },
      "execution_count": null,
      "outputs": []
    },
    {
      "cell_type": "code",
      "source": [
        "# Parameters\n",
        "input_size = (100,100)\n",
        "channel = (3,)\n",
        "input_shape = input_size + channel\n",
        "\n",
        "#labelnya\n",
        "labels = ['Bean', 'Bitter_Gourd', 'Bottle_Gourd', 'Brinjal', 'Broccoli', 'Cabbage', 'Capsicum', 'Carrot', 'Cauliflower', 'Cucumber', 'Papaya', 'Potato', 'Pumpkin', 'Radish', 'Tomato']"
      ],
      "metadata": {
        "id": "ZPm3NAck6uDk"
      },
      "execution_count": null,
      "outputs": []
    },
    {
      "cell_type": "code",
      "source": [
        "def preprocess(img,input_size):\n",
        "    nimg = img.convert('RGB').resize(input_size, resample= 0)\n",
        "    img_arr = (np.array(nimg))/255\n",
        "    return img_arr\n",
        "\n",
        "def reshape(imgs_arr):\n",
        "    return np.stack(imgs_arr, axis=0)"
      ],
      "metadata": {
        "id": "oLAzMcB7Jx75"
      },
      "execution_count": null,
      "outputs": []
    },
    {
      "cell_type": "code",
      "source": [
        "from tensorflow.keras.models import load_model"
      ],
      "metadata": {
        "id": "XTzdvOJNvWqi"
      },
      "execution_count": null,
      "outputs": []
    },
    {
      "cell_type": "code",
      "source": [
        "MODEL_PATH = '/content/model_13.h5'\n",
        "model = load_model(MODEL_PATH,compile=False)\n"
      ],
      "metadata": {
        "id": "aQlyu5rEADhl"
      },
      "execution_count": null,
      "outputs": []
    },
    {
      "cell_type": "code",
      "source": [
        "# read image\n",
        "im = Image.open('/content/testsayuran2.jpg')#harusnya cucumber\n",
        "X = preprocess(im,input_size)\n",
        "X = reshape([X])\n",
        "y = model.predict(X)\n",
        "\n",
        "print( labels[np.argmax(y)], np.max(y) )"
      ],
      "metadata": {
        "id": "Lo07FcAQcs3B",
        "colab": {
          "base_uri": "https://localhost:8080/"
        },
        "outputId": "00ddc00f-c08f-48f3-c8fe-cb67587f096b"
      },
      "execution_count": null,
      "outputs": [
        {
          "output_type": "stream",
          "name": "stdout",
          "text": [
            "Cucumber 0.9614993\n"
          ]
        }
      ]
    },
    {
      "cell_type": "code",
      "source": [
        "# read image\n",
        "im = Image.open('/content/testsayuran.jpg')#harusnya carrot\n",
        "X = preprocess(im,input_size)\n",
        "X = reshape([X])\n",
        "y = model.predict(X)\n",
        "\n",
        "print( labels[np.argmax(y)], np.max(y) )"
      ],
      "metadata": {
        "colab": {
          "base_uri": "https://localhost:8080/"
        },
        "id": "egYZ2Pyivhcj",
        "outputId": "62875cba-b2c2-4458-9c89-9c771e7dbdc9"
      },
      "execution_count": null,
      "outputs": [
        {
          "output_type": "stream",
          "name": "stdout",
          "text": [
            "Carrot 0.99999535\n"
          ]
        }
      ]
    },
    {
      "cell_type": "code",
      "source": [
        "# read image\n",
        "im = Image.open('/content/testsayuran3.jpg')#harusnya tomato\n",
        "X = preprocess(im,input_size)\n",
        "X = reshape([X])\n",
        "y = model.predict(X)\n",
        "\n",
        "print( labels[np.argmax(y)], np.max(y) )"
      ],
      "metadata": {
        "colab": {
          "base_uri": "https://localhost:8080/"
        },
        "id": "z_2JMPmtvkeK",
        "outputId": "09a2bd3c-b6b5-4bc2-8180-20fd00d59966"
      },
      "execution_count": null,
      "outputs": [
        {
          "output_type": "stream",
          "name": "stdout",
          "text": [
            "Capsicum 0.72162426\n"
          ]
        }
      ]
    },
    {
      "cell_type": "code",
      "source": [
        "# read image\n",
        "im = Image.open('/content/testsayuran4.jpg')#harusnya capscium\n",
        "X = preprocess(im,input_size)\n",
        "X = reshape([X])\n",
        "y = model.predict(X)\n",
        "\n",
        "print( labels[np.argmax(y)], np.max(y) )"
      ],
      "metadata": {
        "colab": {
          "base_uri": "https://localhost:8080/"
        },
        "id": "FMQsletQJ1kX",
        "outputId": "ebc2d96c-5e66-4c3b-e720-a241f028a074"
      },
      "execution_count": null,
      "outputs": [
        {
          "output_type": "stream",
          "name": "stdout",
          "text": [
            "Capsicum 0.99998534\n"
          ]
        }
      ]
    },
    {
      "cell_type": "code",
      "source": [
        "y"
      ],
      "metadata": {
        "id": "SqWkkZkRJ4Yr",
        "outputId": "23632f2c-e5e4-4337-f37b-2180cbe1af75",
        "colab": {
          "base_uri": "https://localhost:8080/"
        }
      },
      "execution_count": null,
      "outputs": [
        {
          "output_type": "execute_result",
          "data": {
            "text/plain": [
              "array([[6.1786518e-09, 2.2857448e-10, 4.7307519e-10, 1.3648678e-06,\n",
              "        9.0875345e-12, 1.9153655e-08, 9.9998534e-01, 1.4689846e-08,\n",
              "        6.2856427e-09, 1.2002562e-09, 2.4512889e-07, 1.2223125e-09,\n",
              "        1.6055598e-07, 2.6039626e-10, 1.2783145e-05]], dtype=float32)"
            ]
          },
          "metadata": {},
          "execution_count": 27
        }
      ]
    },
    {
      "cell_type": "code",
      "source": [
        ""
      ],
      "metadata": {
        "id": "aXTPoRavNxE5"
      },
      "execution_count": null,
      "outputs": []
    }
  ],
  "metadata": {
    "colab": {
      "collapsed_sections": [],
      "name": "[REV13]22 Mei 2022-Pretrain B1 data project.ipynb",
      "provenance": []
    },
    "kernelspec": {
      "display_name": "Python 3",
      "name": "python3"
    },
    "language_info": {
      "name": "python"
    },
    "accelerator": "GPU"
  },
  "nbformat": 4,
  "nbformat_minor": 0
}